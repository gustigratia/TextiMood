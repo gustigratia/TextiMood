{
 "cells": [
  {
   "cell_type": "markdown",
   "id": "15550541-e9dc-4fa0-9004-6e4a836ec51a",
   "metadata": {},
   "source": [
    "## Add All Dependencies and Libraries"
   ]
  },
  {
   "cell_type": "code",
   "execution_count": 4,
   "id": "599d519f-ec74-4a1f-a3eb-23fb33b4a26d",
   "metadata": {},
   "outputs": [],
   "source": [
    "import kagglehub\n",
    "import shutil\n",
    "import os\n",
    "import pandas as pd\n",
    "import re\n",
    "import string\n",
    "import nltk\n",
    "from tqdm import tqdm\n",
    "tqdm.pandas()"
   ]
  },
  {
   "cell_type": "markdown",
   "id": "b7fbd8c9-79c2-4048-bc84-7dc0b294fda7",
   "metadata": {},
   "source": [
    "## Import Dataset from Kaggle Using Kagglehub"
   ]
  },
  {
   "cell_type": "code",
   "execution_count": 5,
   "id": "48163e51-8cb9-4f28-8a21-440a7872e8b3",
   "metadata": {},
   "outputs": [
    {
     "name": "stdout",
     "output_type": "stream",
     "text": [
      "Dataset downloaded and copied to dataset/raw/shopee-app-reviews-from-google-store.csv\n"
     ]
    }
   ],
   "source": [
    "path = kagglehub.dataset_download(\"bwandowando/shopee-app-reviews-from-google-store\")\n",
    "\n",
    "for file in os.listdir(path):\n",
    "    full_path = os.path.join(path, file)\n",
    "    shutil.copy(full_path, \"./dataset/raw/shopee-app-reviews-from-google-store.csv\")\n",
    "\n",
    "print(\"Dataset downloaded and copied to dataset/raw/shopee-app-reviews-from-google-store.csv\")"
   ]
  },
  {
   "cell_type": "markdown",
   "id": "e3a579ff-9d36-40ff-bd77-d669ed4e9a43",
   "metadata": {},
   "source": [
    "## Download and Use NLTK's Stopwords"
   ]
  },
  {
   "cell_type": "code",
   "execution_count": 6,
   "id": "4bcae3fa-abd2-4eff-9a6e-dd4b0f6c2e80",
   "metadata": {},
   "outputs": [
    {
     "name": "stderr",
     "output_type": "stream",
     "text": [
      "[nltk_data] Downloading package stopwords to\n",
      "[nltk_data]     C:\\Users\\gusti\\AppData\\Roaming\\nltk_data...\n",
      "[nltk_data]   Package stopwords is already up-to-date!\n"
     ]
    }
   ],
   "source": [
    "nltk.download('stopwords')\n",
    "from nltk.corpus import stopwords"
   ]
  },
  {
   "cell_type": "markdown",
   "id": "cafb6857-2830-4154-8e75-0a402fb1e74f",
   "metadata": {},
   "source": [
    "## Read Dataset"
   ]
  },
  {
   "cell_type": "code",
   "execution_count": 7,
   "id": "b02d16fe-eb70-48ca-94cb-88e3321ad270",
   "metadata": {},
   "outputs": [],
   "source": [
    "df = pd.read_csv(\"./dataset/raw/shopee-app-reviews-from-google-store.csv\")\n",
    "df = df[['review_text', 'review_rating']] "
   ]
  },
  {
   "cell_type": "markdown",
   "id": "54341fbc-7c71-43b9-a7ec-1b2649cbe556",
   "metadata": {},
   "source": [
    "## Add Preprocessing Function\n",
    "This function includes:\n",
    "1. Lowercasing\n",
    "2. Remove punctuation\n",
    "3. Remove non-alphabetic characters\n",
    "4. Remove stopwords"
   ]
  },
  {
   "cell_type": "code",
   "execution_count": 8,
   "id": "dbf889d9-5c72-4e39-b8dd-08f0af6ae779",
   "metadata": {},
   "outputs": [],
   "source": [
    "def preprocess(text):\n",
    "    text = text.lower()\n",
    "    text = text.translate(str.maketrans('', '', string.punctuation))\n",
    "    text = re.sub(r'[^a-z\\s]', '', text)\n",
    "    stop_words = set(stopwords.words('english'))  # You can change 'english' to another language if needed\n",
    "    text = ' '.join(word for word in text.split() if word not in stop_words)\n",
    "    return text"
   ]
  },
  {
   "cell_type": "markdown",
   "id": "580125b7-24db-495b-b2b0-bc4294738093",
   "metadata": {},
   "source": [
    "## Add Sentiment Label based on review_rating Using label_sentiment Function"
   ]
  },
  {
   "cell_type": "code",
   "execution_count": 9,
   "id": "9504af31-1603-45f7-86e9-521c7e080296",
   "metadata": {},
   "outputs": [],
   "source": [
    "def label_sentiment(rating):\n",
    "    if rating >= 4:\n",
    "        return \"positive\"\n",
    "    elif rating == 3:\n",
    "        return \"neutral\"\n",
    "    else:\n",
    "        return \"negative\""
   ]
  },
  {
   "cell_type": "markdown",
   "id": "d99d04c7-23ec-4344-b613-8c0ee42f7d27",
   "metadata": {},
   "source": [
    "## Apply All Function for the Dataset "
   ]
  },
  {
   "cell_type": "code",
   "execution_count": 10,
   "id": "e53bd704-27ae-4184-a787-ca7e63feaee8",
   "metadata": {},
   "outputs": [
    {
     "name": "stderr",
     "output_type": "stream",
     "text": [
      "100%|████████████████████████████████████████████████████████████████████████| 782079/782079 [07:17<00:00, 1787.51it/s]\n",
      "100%|██████████████████████████████████████████████████████████████████████| 782079/782079 [00:01<00:00, 731059.81it/s]\n"
     ]
    }
   ],
   "source": [
    "df['cleaned_review'] = df['review_text'].astype(str).progress_apply(preprocess)\n",
    "df['sentiment'] = df['review_rating'].progress_apply(label_sentiment)"
   ]
  },
  {
   "cell_type": "markdown",
   "id": "7d968851-e6a7-4073-ace3-c70d816bed1d",
   "metadata": {},
   "source": [
    "## Save Cleaned Dataset"
   ]
  },
  {
   "cell_type": "code",
   "execution_count": 11,
   "id": "fcf90afb-0ee0-42da-bd51-5852cedaf4d1",
   "metadata": {},
   "outputs": [
    {
     "name": "stdout",
     "output_type": "stream",
     "text": [
      "Dataset cleaned and saved to dataset/cleaned/shopee_app_reviews_cleaned.csv\n"
     ]
    }
   ],
   "source": [
    "final_df = df[['cleaned_review', 'sentiment']]\n",
    "final_df.to_csv(\"./dataset/cleaned/shopee_app_reviews_cleaned.csv\", index=False)\n",
    "print(\"Dataset cleaned and saved to dataset/cleaned/shopee_app_reviews_cleaned.csv\")"
   ]
  }
 ],
 "metadata": {
  "kernelspec": {
   "display_name": "Python 3 (ipykernel)",
   "language": "python",
   "name": "python3"
  },
  "language_info": {
   "codemirror_mode": {
    "name": "ipython",
    "version": 3
   },
   "file_extension": ".py",
   "mimetype": "text/x-python",
   "name": "python",
   "nbconvert_exporter": "python",
   "pygments_lexer": "ipython3",
   "version": "3.12.4"
  }
 },
 "nbformat": 4,
 "nbformat_minor": 5
}
