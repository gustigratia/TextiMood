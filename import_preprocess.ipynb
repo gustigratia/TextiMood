{
 "cells": [
  {
   "cell_type": "markdown",
   "id": "15550541-e9dc-4fa0-9004-6e4a836ec51a",
   "metadata": {},
   "source": [
    "### Add All Dependencies and Libraries"
   ]
  },
  {
   "cell_type": "code",
   "execution_count": 21,
   "id": "599d519f-ec74-4a1f-a3eb-23fb33b4a26d",
   "metadata": {},
   "outputs": [],
   "source": [
    "import kagglehub\n",
    "import shutil\n",
    "import os\n",
    "import pandas as pd\n",
    "import re\n",
    "import string\n",
    "import nltk\n",
    "from tqdm import tqdm\n",
    "import numpy as np\n",
    "tqdm.pandas()"
   ]
  },
  {
   "cell_type": "markdown",
   "id": "b7fbd8c9-79c2-4048-bc84-7dc0b294fda7",
   "metadata": {},
   "source": [
    "### Import Dataset from Kaggle Using Kagglehub"
   ]
  },
  {
   "cell_type": "code",
   "execution_count": 5,
   "id": "48163e51-8cb9-4f28-8a21-440a7872e8b3",
   "metadata": {},
   "outputs": [
    {
     "name": "stdout",
     "output_type": "stream",
     "text": [
      "Dataset downloaded and copied to dataset/raw/shopee-app-reviews-from-google-store.csv\n"
     ]
    }
   ],
   "source": [
    "path = kagglehub.dataset_download(\"bwandowando/shopee-app-reviews-from-google-store\")\n",
    "\n",
    "for file in os.listdir(path):\n",
    "    full_path = os.path.join(path, file)\n",
    "    shutil.copy(full_path, \"./dataset/raw/shopee-app-reviews-from-google-store.csv\")\n",
    "\n",
    "print(\"Dataset downloaded and copied to dataset/raw/shopee-app-reviews-from-google-store.csv\")"
   ]
  },
  {
   "cell_type": "markdown",
   "id": "e3a579ff-9d36-40ff-bd77-d669ed4e9a43",
   "metadata": {},
   "source": [
    "### Download and Use NLTK's Stopwords"
   ]
  },
  {
   "cell_type": "code",
   "execution_count": 6,
   "id": "4bcae3fa-abd2-4eff-9a6e-dd4b0f6c2e80",
   "metadata": {},
   "outputs": [
    {
     "name": "stderr",
     "output_type": "stream",
     "text": [
      "[nltk_data] Downloading package stopwords to\n",
      "[nltk_data]     C:\\Users\\gusti\\AppData\\Roaming\\nltk_data...\n",
      "[nltk_data]   Package stopwords is already up-to-date!\n"
     ]
    }
   ],
   "source": [
    "nltk.download('stopwords')\n",
    "from nltk.corpus import stopwords"
   ]
  },
  {
   "cell_type": "markdown",
   "id": "cafb6857-2830-4154-8e75-0a402fb1e74f",
   "metadata": {},
   "source": [
    "### Read Dataset"
   ]
  },
  {
   "cell_type": "code",
   "execution_count": 8,
   "id": "b02d16fe-eb70-48ca-94cb-88e3321ad270",
   "metadata": {},
   "outputs": [
    {
     "data": {
      "text/html": [
       "<div>\n",
       "<style scoped>\n",
       "    .dataframe tbody tr th:only-of-type {\n",
       "        vertical-align: middle;\n",
       "    }\n",
       "\n",
       "    .dataframe tbody tr th {\n",
       "        vertical-align: top;\n",
       "    }\n",
       "\n",
       "    .dataframe thead th {\n",
       "        text-align: right;\n",
       "    }\n",
       "</style>\n",
       "<table border=\"1\" class=\"dataframe\">\n",
       "  <thead>\n",
       "    <tr style=\"text-align: right;\">\n",
       "      <th></th>\n",
       "      <th>review_text</th>\n",
       "      <th>review_rating</th>\n",
       "    </tr>\n",
       "  </thead>\n",
       "  <tbody>\n",
       "    <tr>\n",
       "      <th>0</th>\n",
       "      <td>The next level in buying and selling! Everyone...</td>\n",
       "      <td>5</td>\n",
       "    </tr>\n",
       "    <tr>\n",
       "      <th>1</th>\n",
       "      <td>User friendly ecommerce site.</td>\n",
       "      <td>5</td>\n",
       "    </tr>\n",
       "    <tr>\n",
       "      <th>2</th>\n",
       "      <td>This is such a cool app. I find it easy to bro...</td>\n",
       "      <td>5</td>\n",
       "    </tr>\n",
       "    <tr>\n",
       "      <th>3</th>\n",
       "      <td>Finally, they're here! Hooray!</td>\n",
       "      <td>5</td>\n",
       "    </tr>\n",
       "    <tr>\n",
       "      <th>4</th>\n",
       "      <td>Very cool app. Shop anytime, anywhere. Hassle-...</td>\n",
       "      <td>5</td>\n",
       "    </tr>\n",
       "    <tr>\n",
       "      <th>...</th>\n",
       "      <td>...</td>\n",
       "      <td>...</td>\n",
       "    </tr>\n",
       "    <tr>\n",
       "      <th>782074</th>\n",
       "      <td>All goods</td>\n",
       "      <td>5</td>\n",
       "    </tr>\n",
       "    <tr>\n",
       "      <th>782075</th>\n",
       "      <td>Worse lipat na kayoas priority nila seller kes...</td>\n",
       "      <td>1</td>\n",
       "    </tr>\n",
       "    <tr>\n",
       "      <th>782076</th>\n",
       "      <td>❤❤❤😊😊😊</td>\n",
       "      <td>5</td>\n",
       "    </tr>\n",
       "    <tr>\n",
       "      <th>782077</th>\n",
       "      <td>Legit ang mga product at maganda ang service. ...</td>\n",
       "      <td>5</td>\n",
       "    </tr>\n",
       "    <tr>\n",
       "      <th>782078</th>\n",
       "      <td>Great</td>\n",
       "      <td>5</td>\n",
       "    </tr>\n",
       "  </tbody>\n",
       "</table>\n",
       "<p>782079 rows × 2 columns</p>\n",
       "</div>"
      ],
      "text/plain": [
       "                                              review_text  review_rating\n",
       "0       The next level in buying and selling! Everyone...              5\n",
       "1                           User friendly ecommerce site.              5\n",
       "2       This is such a cool app. I find it easy to bro...              5\n",
       "3                          Finally, they're here! Hooray!              5\n",
       "4       Very cool app. Shop anytime, anywhere. Hassle-...              5\n",
       "...                                                   ...            ...\n",
       "782074                                          All goods              5\n",
       "782075  Worse lipat na kayoas priority nila seller kes...              1\n",
       "782076                                             ❤❤❤😊😊😊              5\n",
       "782077  Legit ang mga product at maganda ang service. ...              5\n",
       "782078                                              Great              5\n",
       "\n",
       "[782079 rows x 2 columns]"
      ]
     },
     "execution_count": 8,
     "metadata": {},
     "output_type": "execute_result"
    }
   ],
   "source": [
    "df = pd.read_csv(\"./dataset/raw/shopee-app-reviews-from-google-store.csv\")\n",
    "df = df[['review_text', 'review_rating']]\n",
    "df "
   ]
  },
  {
   "cell_type": "markdown",
   "id": "54341fbc-7c71-43b9-a7ec-1b2649cbe556",
   "metadata": {},
   "source": [
    "### Add Preprocessing Function\n",
    "This function includes:\n",
    "1. Lowercasing\n",
    "2. Remove punctuation\n",
    "3. Remove non-alphabetic characters\n",
    "4. Remove stopwords"
   ]
  },
  {
   "cell_type": "code",
   "execution_count": 9,
   "id": "dbf889d9-5c72-4e39-b8dd-08f0af6ae779",
   "metadata": {},
   "outputs": [],
   "source": [
    "def preprocess(text):\n",
    "    text = text.lower()\n",
    "    text = text.translate(str.maketrans('', '', string.punctuation))\n",
    "    text = re.sub(r'[^a-z\\s]', '', text)\n",
    "    stop_words = set(stopwords.words('english'))  # You can change 'english' to another language if needed\n",
    "    text = ' '.join(word for word in text.split() if word not in stop_words)\n",
    "    return text"
   ]
  },
  {
   "cell_type": "markdown",
   "id": "580125b7-24db-495b-b2b0-bc4294738093",
   "metadata": {},
   "source": [
    "### Add Sentiment Label based on review_rating Using label_sentiment Function"
   ]
  },
  {
   "cell_type": "code",
   "execution_count": 10,
   "id": "9504af31-1603-45f7-86e9-521c7e080296",
   "metadata": {},
   "outputs": [],
   "source": [
    "def label_sentiment(rating):\n",
    "    if rating >= 4:\n",
    "        return \"positive\"\n",
    "    elif rating == 3:\n",
    "        return \"neutral\"\n",
    "    else:\n",
    "        return \"negative\""
   ]
  },
  {
   "cell_type": "markdown",
   "id": "d99d04c7-23ec-4344-b613-8c0ee42f7d27",
   "metadata": {},
   "source": [
    "### Apply All Function for the Dataset "
   ]
  },
  {
   "cell_type": "code",
   "execution_count": 13,
   "id": "e53bd704-27ae-4184-a787-ca7e63feaee8",
   "metadata": {},
   "outputs": [
    {
     "name": "stderr",
     "output_type": "stream",
     "text": [
      "100%|██████████| 782079/782079 [07:32<00:00, 1729.01it/s]\n",
      "100%|██████████| 782079/782079 [00:01<00:00, 750497.75it/s]\n"
     ]
    }
   ],
   "source": [
    "df['cleaned_review'] = df['review_text'].astype(str).progress_apply(preprocess)\n",
    "df['sentiment'] = df['review_rating'].progress_apply(label_sentiment)"
   ]
  },
  {
   "cell_type": "markdown",
   "id": "7d968851-e6a7-4073-ace3-c70d816bed1d",
   "metadata": {},
   "source": [
    "### Save Cleaned Dataset"
   ]
  },
  {
   "cell_type": "code",
   "execution_count": null,
   "id": "fcf90afb-0ee0-42da-bd51-5852cedaf4d1",
   "metadata": {},
   "outputs": [
    {
     "name": "stderr",
     "output_type": "stream",
     "text": [
      "C:\\Users\\gusti\\AppData\\Local\\Temp\\ipykernel_1280\\3457014011.py:4: SettingWithCopyWarning: \n",
      "A value is trying to be set on a copy of a slice from a DataFrame\n",
      "\n",
      "See the caveats in the documentation: https://pandas.pydata.org/pandas-docs/stable/user_guide/indexing.html#returning-a-view-versus-a-copy\n",
      "  final_df.dropna(inplace=True)\n"
     ]
    },
    {
     "name": "stdout",
     "output_type": "stream",
     "text": [
      "Dataset cleaned and saved to dataset/cleaned/shopee_app_reviews_cleaned.csv\n"
     ]
    }
   ],
   "source": [
    "final_df = df[['cleaned_review', 'sentiment']]\n",
    "final_df.loc[:, \"cleaned_review\"] = final_df[\"cleaned_review\"].replace([\"\", \" \", \"NaN\", \"nan\"], np.nan)\n",
    "final_df.dropna(inplace=True)\n",
    "final_df.to_csv(\"./dataset/cleaned/shopee_app_reviews_cleaned.csv\", index=False)\n",
    "print(\"Dataset cleaned and saved to dataset/cleaned/shopee_app_reviews_cleaned.csv\")"
   ]
  },
  {
   "cell_type": "code",
   "execution_count": 43,
   "id": "e1c09cfd",
   "metadata": {},
   "outputs": [
    {
     "data": {
      "text/html": [
       "<div>\n",
       "<style scoped>\n",
       "    .dataframe tbody tr th:only-of-type {\n",
       "        vertical-align: middle;\n",
       "    }\n",
       "\n",
       "    .dataframe tbody tr th {\n",
       "        vertical-align: top;\n",
       "    }\n",
       "\n",
       "    .dataframe thead th {\n",
       "        text-align: right;\n",
       "    }\n",
       "</style>\n",
       "<table border=\"1\" class=\"dataframe\">\n",
       "  <thead>\n",
       "    <tr style=\"text-align: right;\">\n",
       "      <th></th>\n",
       "      <th>cleaned_review</th>\n",
       "      <th>sentiment</th>\n",
       "    </tr>\n",
       "  </thead>\n",
       "  <tbody>\n",
       "    <tr>\n",
       "      <th>0</th>\n",
       "      <td>next level buying selling everyone try must ap...</td>\n",
       "      <td>positive</td>\n",
       "    </tr>\n",
       "    <tr>\n",
       "      <th>1</th>\n",
       "      <td>user friendly ecommerce site</td>\n",
       "      <td>positive</td>\n",
       "    </tr>\n",
       "    <tr>\n",
       "      <th>2</th>\n",
       "      <td>cool app find easy browse might skip going mal...</td>\n",
       "      <td>positive</td>\n",
       "    </tr>\n",
       "    <tr>\n",
       "      <th>3</th>\n",
       "      <td>finally theyre hooray</td>\n",
       "      <td>positive</td>\n",
       "    </tr>\n",
       "    <tr>\n",
       "      <th>4</th>\n",
       "      <td>cool app shop anytime anywhere hasslefree buyi...</td>\n",
       "      <td>positive</td>\n",
       "    </tr>\n",
       "    <tr>\n",
       "      <th>...</th>\n",
       "      <td>...</td>\n",
       "      <td>...</td>\n",
       "    </tr>\n",
       "    <tr>\n",
       "      <th>782073</th>\n",
       "      <td>hard find appropriate size classes due sellers...</td>\n",
       "      <td>neutral</td>\n",
       "    </tr>\n",
       "    <tr>\n",
       "      <th>782074</th>\n",
       "      <td>goods</td>\n",
       "      <td>positive</td>\n",
       "    </tr>\n",
       "    <tr>\n",
       "      <th>782075</th>\n",
       "      <td>worse lipat na kayoas priority nila seller kes...</td>\n",
       "      <td>negative</td>\n",
       "    </tr>\n",
       "    <tr>\n",
       "      <th>782077</th>\n",
       "      <td>legit ang mga product maganda ang service than...</td>\n",
       "      <td>positive</td>\n",
       "    </tr>\n",
       "    <tr>\n",
       "      <th>782078</th>\n",
       "      <td>great</td>\n",
       "      <td>positive</td>\n",
       "    </tr>\n",
       "  </tbody>\n",
       "</table>\n",
       "<p>753871 rows × 2 columns</p>\n",
       "</div>"
      ],
      "text/plain": [
       "                                           cleaned_review sentiment\n",
       "0       next level buying selling everyone try must ap...  positive\n",
       "1                            user friendly ecommerce site  positive\n",
       "2       cool app find easy browse might skip going mal...  positive\n",
       "3                                   finally theyre hooray  positive\n",
       "4       cool app shop anytime anywhere hasslefree buyi...  positive\n",
       "...                                                   ...       ...\n",
       "782073  hard find appropriate size classes due sellers...   neutral\n",
       "782074                                              goods  positive\n",
       "782075  worse lipat na kayoas priority nila seller kes...  negative\n",
       "782077  legit ang mga product maganda ang service than...  positive\n",
       "782078                                              great  positive\n",
       "\n",
       "[753871 rows x 2 columns]"
      ]
     },
     "execution_count": 43,
     "metadata": {},
     "output_type": "execute_result"
    }
   ],
   "source": [
    "final_df"
   ]
  }
 ],
 "metadata": {
  "kernelspec": {
   "display_name": "sentimen",
   "language": "python",
   "name": "python3"
  },
  "language_info": {
   "codemirror_mode": {
    "name": "ipython",
    "version": 3
   },
   "file_extension": ".py",
   "mimetype": "text/x-python",
   "name": "python",
   "nbconvert_exporter": "python",
   "pygments_lexer": "ipython3",
   "version": "3.10.18"
  }
 },
 "nbformat": 4,
 "nbformat_minor": 5
}
